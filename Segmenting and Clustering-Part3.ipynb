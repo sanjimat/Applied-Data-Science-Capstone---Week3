{
 "cells": [
  {
   "cell_type": "markdown",
   "metadata": {},
   "source": [
    "## Peer-graded Assignment: Week3 Part3"
   ]
  },
  {
   "cell_type": "markdown",
   "metadata": {},
   "source": [
    "### Setting up the environment"
   ]
  },
  {
   "cell_type": "code",
   "execution_count": 1,
   "metadata": {},
   "outputs": [
    {
     "name": "stdout",
     "output_type": "stream",
     "text": [
      "Libraries imported.\n"
     ]
    }
   ],
   "source": [
    "#Import all the required libraries\n",
    "import numpy as np\n",
    "import pandas as pd\n",
    "pd.set_option('display.max_columns', None)\n",
    "pd.set_option('display.max_rows', None)\n",
    "\n",
    "import json\n",
    "\n",
    "#!pip install geopy \n",
    "from geopy.geocoders import Nominatim\n",
    "\n",
    "from bs4 import BeautifulSoup\n",
    "from urllib.request import urlopen\n",
    "import requests\n",
    "from pandas.io.json import json_normalize\n",
    "import matplotlib.cm as cm\n",
    "import matplotlib.colors as colors\n",
    "from sklearn.cluster import KMeans\n",
    "\n",
    "#!pip install folium\n",
    "import folium\n",
    "\n",
    "print('Libraries imported.')"
   ]
  },
  {
   "cell_type": "markdown",
   "metadata": {},
   "source": [
    "### Parsing the html"
   ]
  },
  {
   "cell_type": "code",
   "execution_count": 2,
   "metadata": {},
   "outputs": [],
   "source": [
    "url = 'https://en.wikipedia.org/wiki/List_of_postal_codes_of_Canada:_M'\n",
    "page = urlopen(url).read().decode('utf-8')\n",
    "soup = BeautifulSoup(page, 'html.parser')\n",
    "\n",
    "wiki_table = soup.body.table.tbody"
   ]
  },
  {
   "cell_type": "markdown",
   "metadata": {},
   "source": [
    "### Extracing data from the table to the dataframe"
   ]
  },
  {
   "cell_type": "code",
   "execution_count": 3,
   "metadata": {},
   "outputs": [],
   "source": [
    "def get_cell(element):\n",
    "    cells = element.find_all('td')\n",
    "    row = []\n",
    "    \n",
    "    for cell in cells:\n",
    "        if cell.a:            \n",
    "            if (cell.a.text):\n",
    "                row.append(cell.a.text)\n",
    "                continue\n",
    "        row.append(cell.string.strip())\n",
    "        \n",
    "    return row"
   ]
  },
  {
   "cell_type": "code",
   "execution_count": 4,
   "metadata": {},
   "outputs": [],
   "source": [
    "def get_row():    \n",
    "    data = []  \n",
    "    \n",
    "    for tr in wiki_table.find_all('tr'):\n",
    "        row = get_cell(tr)\n",
    "        if len(row) != 3:\n",
    "            continue\n",
    "        data.append(row)        \n",
    "    \n",
    "    return data"
   ]
  },
  {
   "cell_type": "code",
   "execution_count": 5,
   "metadata": {},
   "outputs": [
    {
     "data": {
      "text/html": [
       "<div>\n",
       "<style scoped>\n",
       "    .dataframe tbody tr th:only-of-type {\n",
       "        vertical-align: middle;\n",
       "    }\n",
       "\n",
       "    .dataframe tbody tr th {\n",
       "        vertical-align: top;\n",
       "    }\n",
       "\n",
       "    .dataframe thead th {\n",
       "        text-align: right;\n",
       "    }\n",
       "</style>\n",
       "<table border=\"1\" class=\"dataframe\">\n",
       "  <thead>\n",
       "    <tr style=\"text-align: right;\">\n",
       "      <th></th>\n",
       "      <th>PostalCode</th>\n",
       "      <th>Borough</th>\n",
       "      <th>Neighbourhood</th>\n",
       "    </tr>\n",
       "  </thead>\n",
       "  <tbody>\n",
       "    <tr>\n",
       "      <th>0</th>\n",
       "      <td>M1A</td>\n",
       "      <td>Not assigned</td>\n",
       "      <td>Not assigned</td>\n",
       "    </tr>\n",
       "    <tr>\n",
       "      <th>1</th>\n",
       "      <td>M2A</td>\n",
       "      <td>Not assigned</td>\n",
       "      <td>Not assigned</td>\n",
       "    </tr>\n",
       "    <tr>\n",
       "      <th>2</th>\n",
       "      <td>M3A</td>\n",
       "      <td>North York</td>\n",
       "      <td>Parkwoods</td>\n",
       "    </tr>\n",
       "    <tr>\n",
       "      <th>3</th>\n",
       "      <td>M4A</td>\n",
       "      <td>North York</td>\n",
       "      <td>Victoria Village</td>\n",
       "    </tr>\n",
       "    <tr>\n",
       "      <th>4</th>\n",
       "      <td>M5A</td>\n",
       "      <td>Downtown Toronto</td>\n",
       "      <td>Regent Park, Harbourfront</td>\n",
       "    </tr>\n",
       "  </tbody>\n",
       "</table>\n",
       "</div>"
      ],
      "text/plain": [
       "  PostalCode           Borough              Neighbourhood\n",
       "0        M1A      Not assigned               Not assigned\n",
       "1        M2A      Not assigned               Not assigned\n",
       "2        M3A        North York                  Parkwoods\n",
       "3        M4A        North York           Victoria Village\n",
       "4        M5A  Downtown Toronto  Regent Park, Harbourfront"
      ]
     },
     "execution_count": 5,
     "metadata": {},
     "output_type": "execute_result"
    }
   ],
   "source": [
    "data = get_row()\n",
    "columns = ['PostalCode', 'Borough', 'Neighbourhood']\n",
    "df = pd.DataFrame(data, columns=columns)\n",
    "df.head()"
   ]
  },
  {
   "cell_type": "markdown",
   "metadata": {},
   "source": [
    "### Cleaning the data"
   ]
  },
  {
   "cell_type": "code",
   "execution_count": 6,
   "metadata": {},
   "outputs": [
    {
     "data": {
      "text/html": [
       "<div>\n",
       "<style scoped>\n",
       "    .dataframe tbody tr th:only-of-type {\n",
       "        vertical-align: middle;\n",
       "    }\n",
       "\n",
       "    .dataframe tbody tr th {\n",
       "        vertical-align: top;\n",
       "    }\n",
       "\n",
       "    .dataframe thead th {\n",
       "        text-align: right;\n",
       "    }\n",
       "</style>\n",
       "<table border=\"1\" class=\"dataframe\">\n",
       "  <thead>\n",
       "    <tr style=\"text-align: right;\">\n",
       "      <th></th>\n",
       "      <th>PostalCode</th>\n",
       "      <th>Borough</th>\n",
       "      <th>Neighbourhood</th>\n",
       "    </tr>\n",
       "  </thead>\n",
       "  <tbody>\n",
       "    <tr>\n",
       "      <th>0</th>\n",
       "      <td>M1B</td>\n",
       "      <td>Scarborough</td>\n",
       "      <td>Malvern, Rouge</td>\n",
       "    </tr>\n",
       "    <tr>\n",
       "      <th>1</th>\n",
       "      <td>M1C</td>\n",
       "      <td>Scarborough</td>\n",
       "      <td>Rouge Hill, Port Union, Highland Creek</td>\n",
       "    </tr>\n",
       "    <tr>\n",
       "      <th>2</th>\n",
       "      <td>M1E</td>\n",
       "      <td>Scarborough</td>\n",
       "      <td>Guildwood, Morningside, West Hill</td>\n",
       "    </tr>\n",
       "    <tr>\n",
       "      <th>3</th>\n",
       "      <td>M1G</td>\n",
       "      <td>Scarborough</td>\n",
       "      <td>Woburn</td>\n",
       "    </tr>\n",
       "    <tr>\n",
       "      <th>4</th>\n",
       "      <td>M1H</td>\n",
       "      <td>Scarborough</td>\n",
       "      <td>Cedarbrae</td>\n",
       "    </tr>\n",
       "  </tbody>\n",
       "</table>\n",
       "</div>"
      ],
      "text/plain": [
       "  PostalCode      Borough                           Neighbourhood\n",
       "0        M1B  Scarborough                          Malvern, Rouge\n",
       "1        M1C  Scarborough  Rouge Hill, Port Union, Highland Creek\n",
       "2        M1E  Scarborough       Guildwood, Morningside, West Hill\n",
       "3        M1G  Scarborough                                  Woburn\n",
       "4        M1H  Scarborough                               Cedarbrae"
      ]
     },
     "execution_count": 6,
     "metadata": {},
     "output_type": "execute_result"
    }
   ],
   "source": [
    "df1 = df[df.Borough != 'Not assigned']\n",
    "df1 = df1.sort_values(by=['PostalCode','Borough'])\n",
    "\n",
    "df1.reset_index(inplace=True)\n",
    "df1.drop('index',axis=1,inplace=True)\n",
    "\n",
    "df1.head()"
   ]
  },
  {
   "cell_type": "code",
   "execution_count": 7,
   "metadata": {},
   "outputs": [],
   "source": [
    "df_postcodes = df1['PostalCode']\n",
    "df_postcodes.drop_duplicates(inplace=True)\n",
    "df2 = pd.DataFrame(df_postcodes)\n",
    "df2['Borough'] = '';\n",
    "df2['Neighbourhood'] = '';\n",
    "\n",
    "\n",
    "df2.reset_index(inplace=True)\n",
    "df2.drop('index', axis=1, inplace=True)\n",
    "df1.reset_index(inplace=True)\n",
    "df1.drop('index', axis=1, inplace=True)\n",
    "\n",
    "for i in df2.index:\n",
    "    for j in df1.index:\n",
    "        if df2.iloc[i, 0] == df1.iloc[j, 0]:\n",
    "            df2.iloc[i, 1] = df1.iloc[j, 1]\n",
    "            df2.iloc[i, 2] = df2.iloc[i, 2] + ',' + df1.iloc[j, 2]\n",
    "            \n",
    "for i in df2.index:\n",
    "    s = df2.iloc[i, 2]\n",
    "    if s[0] == ',':\n",
    "        s =s [1:]\n",
    "    df2.iloc[i,2 ] = s"
   ]
  },
  {
   "cell_type": "code",
   "execution_count": 8,
   "metadata": {},
   "outputs": [
    {
     "data": {
      "text/plain": [
       "(103, 3)"
      ]
     },
     "execution_count": 8,
     "metadata": {},
     "output_type": "execute_result"
    }
   ],
   "source": [
    "df2.shape"
   ]
  },
  {
   "cell_type": "markdown",
   "metadata": {},
   "source": [
    "### Adding the geospatial data to the data frame (using the csv file)"
   ]
  },
  {
   "cell_type": "code",
   "execution_count": 9,
   "metadata": {},
   "outputs": [
    {
     "data": {
      "text/html": [
       "<div>\n",
       "<style scoped>\n",
       "    .dataframe tbody tr th:only-of-type {\n",
       "        vertical-align: middle;\n",
       "    }\n",
       "\n",
       "    .dataframe tbody tr th {\n",
       "        vertical-align: top;\n",
       "    }\n",
       "\n",
       "    .dataframe thead th {\n",
       "        text-align: right;\n",
       "    }\n",
       "</style>\n",
       "<table border=\"1\" class=\"dataframe\">\n",
       "  <thead>\n",
       "    <tr style=\"text-align: right;\">\n",
       "      <th></th>\n",
       "      <th>Postal Code</th>\n",
       "      <th>Latitude</th>\n",
       "      <th>Longitude</th>\n",
       "    </tr>\n",
       "  </thead>\n",
       "  <tbody>\n",
       "    <tr>\n",
       "      <th>0</th>\n",
       "      <td>M1B</td>\n",
       "      <td>43.806686</td>\n",
       "      <td>-79.194353</td>\n",
       "    </tr>\n",
       "    <tr>\n",
       "      <th>1</th>\n",
       "      <td>M1C</td>\n",
       "      <td>43.784535</td>\n",
       "      <td>-79.160497</td>\n",
       "    </tr>\n",
       "    <tr>\n",
       "      <th>2</th>\n",
       "      <td>M1E</td>\n",
       "      <td>43.763573</td>\n",
       "      <td>-79.188711</td>\n",
       "    </tr>\n",
       "    <tr>\n",
       "      <th>3</th>\n",
       "      <td>M1G</td>\n",
       "      <td>43.770992</td>\n",
       "      <td>-79.216917</td>\n",
       "    </tr>\n",
       "    <tr>\n",
       "      <th>4</th>\n",
       "      <td>M1H</td>\n",
       "      <td>43.773136</td>\n",
       "      <td>-79.239476</td>\n",
       "    </tr>\n",
       "  </tbody>\n",
       "</table>\n",
       "</div>"
      ],
      "text/plain": [
       "  Postal Code   Latitude  Longitude\n",
       "0         M1B  43.806686 -79.194353\n",
       "1         M1C  43.784535 -79.160497\n",
       "2         M1E  43.763573 -79.188711\n",
       "3         M1G  43.770992 -79.216917\n",
       "4         M1H  43.773136 -79.239476"
      ]
     },
     "execution_count": 9,
     "metadata": {},
     "output_type": "execute_result"
    }
   ],
   "source": [
    "df2['Latitude'] = '0';\n",
    "df2['Longitude'] = '0';\n",
    "df_geo = pd.read_csv('Geospatial_Coordinates.csv')\n",
    "df_geo.head()"
   ]
  },
  {
   "cell_type": "code",
   "execution_count": 10,
   "metadata": {},
   "outputs": [
    {
     "data": {
      "text/html": [
       "<div>\n",
       "<style scoped>\n",
       "    .dataframe tbody tr th:only-of-type {\n",
       "        vertical-align: middle;\n",
       "    }\n",
       "\n",
       "    .dataframe tbody tr th {\n",
       "        vertical-align: top;\n",
       "    }\n",
       "\n",
       "    .dataframe thead th {\n",
       "        text-align: right;\n",
       "    }\n",
       "</style>\n",
       "<table border=\"1\" class=\"dataframe\">\n",
       "  <thead>\n",
       "    <tr style=\"text-align: right;\">\n",
       "      <th></th>\n",
       "      <th>PostalCode</th>\n",
       "      <th>Borough</th>\n",
       "      <th>Neighbourhood</th>\n",
       "      <th>Latitude</th>\n",
       "      <th>Longitude</th>\n",
       "    </tr>\n",
       "  </thead>\n",
       "  <tbody>\n",
       "    <tr>\n",
       "      <th>0</th>\n",
       "      <td>M1B</td>\n",
       "      <td>Scarborough</td>\n",
       "      <td>Malvern, Rouge</td>\n",
       "      <td>43.8067</td>\n",
       "      <td>-79.1944</td>\n",
       "    </tr>\n",
       "    <tr>\n",
       "      <th>1</th>\n",
       "      <td>M1C</td>\n",
       "      <td>Scarborough</td>\n",
       "      <td>Rouge Hill, Port Union, Highland Creek</td>\n",
       "      <td>43.7845</td>\n",
       "      <td>-79.1605</td>\n",
       "    </tr>\n",
       "    <tr>\n",
       "      <th>2</th>\n",
       "      <td>M1E</td>\n",
       "      <td>Scarborough</td>\n",
       "      <td>Guildwood, Morningside, West Hill</td>\n",
       "      <td>43.7636</td>\n",
       "      <td>-79.1887</td>\n",
       "    </tr>\n",
       "    <tr>\n",
       "      <th>3</th>\n",
       "      <td>M1G</td>\n",
       "      <td>Scarborough</td>\n",
       "      <td>Woburn</td>\n",
       "      <td>43.771</td>\n",
       "      <td>-79.2169</td>\n",
       "    </tr>\n",
       "    <tr>\n",
       "      <th>4</th>\n",
       "      <td>M1H</td>\n",
       "      <td>Scarborough</td>\n",
       "      <td>Cedarbrae</td>\n",
       "      <td>43.7731</td>\n",
       "      <td>-79.2395</td>\n",
       "    </tr>\n",
       "  </tbody>\n",
       "</table>\n",
       "</div>"
      ],
      "text/plain": [
       "  PostalCode      Borough                           Neighbourhood Latitude  \\\n",
       "0        M1B  Scarborough                          Malvern, Rouge  43.8067   \n",
       "1        M1C  Scarborough  Rouge Hill, Port Union, Highland Creek  43.7845   \n",
       "2        M1E  Scarborough       Guildwood, Morningside, West Hill  43.7636   \n",
       "3        M1G  Scarborough                                  Woburn   43.771   \n",
       "4        M1H  Scarborough                               Cedarbrae  43.7731   \n",
       "\n",
       "  Longitude  \n",
       "0  -79.1944  \n",
       "1  -79.1605  \n",
       "2  -79.1887  \n",
       "3  -79.2169  \n",
       "4  -79.2395  "
      ]
     },
     "execution_count": 10,
     "metadata": {},
     "output_type": "execute_result"
    }
   ],
   "source": [
    "for i in df2.index:\n",
    "    for j in df_geo.index:\n",
    "        if df2.iloc[i, 0] == df_geo.iloc[j, 0]:\n",
    "            df2.iloc[i, 3] = df_geo.iloc[j, 1]\n",
    "            df2.iloc[i, 4] = df_geo.iloc[j, 2]\n",
    "            \n",
    "df2.head()"
   ]
  },
  {
   "cell_type": "markdown",
   "metadata": {},
   "source": [
    "### Clustering the neighborhoods in Toronto"
   ]
  },
  {
   "cell_type": "code",
   "execution_count": 11,
   "metadata": {},
   "outputs": [
    {
     "data": {
      "text/html": [
       "<div>\n",
       "<style scoped>\n",
       "    .dataframe tbody tr th:only-of-type {\n",
       "        vertical-align: middle;\n",
       "    }\n",
       "\n",
       "    .dataframe tbody tr th {\n",
       "        vertical-align: top;\n",
       "    }\n",
       "\n",
       "    .dataframe thead th {\n",
       "        text-align: right;\n",
       "    }\n",
       "</style>\n",
       "<table border=\"1\" class=\"dataframe\">\n",
       "  <thead>\n",
       "    <tr style=\"text-align: right;\">\n",
       "      <th></th>\n",
       "      <th>PostalCode</th>\n",
       "      <th>Borough</th>\n",
       "      <th>Neighbourhood</th>\n",
       "      <th>Latitude</th>\n",
       "      <th>Longitude</th>\n",
       "    </tr>\n",
       "  </thead>\n",
       "  <tbody>\n",
       "    <tr>\n",
       "      <th>37</th>\n",
       "      <td>M4E</td>\n",
       "      <td>East Toronto</td>\n",
       "      <td>The Beaches</td>\n",
       "      <td>43.6764</td>\n",
       "      <td>-79.293</td>\n",
       "    </tr>\n",
       "    <tr>\n",
       "      <th>41</th>\n",
       "      <td>M4K</td>\n",
       "      <td>East Toronto</td>\n",
       "      <td>The Danforth West, Riverdale</td>\n",
       "      <td>43.6796</td>\n",
       "      <td>-79.3522</td>\n",
       "    </tr>\n",
       "    <tr>\n",
       "      <th>42</th>\n",
       "      <td>M4L</td>\n",
       "      <td>East Toronto</td>\n",
       "      <td>India Bazaar, The Beaches West</td>\n",
       "      <td>43.669</td>\n",
       "      <td>-79.3156</td>\n",
       "    </tr>\n",
       "    <tr>\n",
       "      <th>43</th>\n",
       "      <td>M4M</td>\n",
       "      <td>East Toronto</td>\n",
       "      <td>Studio District</td>\n",
       "      <td>43.6595</td>\n",
       "      <td>-79.3409</td>\n",
       "    </tr>\n",
       "    <tr>\n",
       "      <th>44</th>\n",
       "      <td>M4N</td>\n",
       "      <td>Central Toronto</td>\n",
       "      <td>Lawrence Park</td>\n",
       "      <td>43.728</td>\n",
       "      <td>-79.3888</td>\n",
       "    </tr>\n",
       "  </tbody>\n",
       "</table>\n",
       "</div>"
      ],
      "text/plain": [
       "   PostalCode          Borough                   Neighbourhood Latitude  \\\n",
       "37        M4E     East Toronto                     The Beaches  43.6764   \n",
       "41        M4K     East Toronto    The Danforth West, Riverdale  43.6796   \n",
       "42        M4L     East Toronto  India Bazaar, The Beaches West   43.669   \n",
       "43        M4M     East Toronto                 Studio District  43.6595   \n",
       "44        M4N  Central Toronto                   Lawrence Park   43.728   \n",
       "\n",
       "   Longitude  \n",
       "37   -79.293  \n",
       "41  -79.3522  \n",
       "42  -79.3156  \n",
       "43  -79.3409  \n",
       "44  -79.3888  "
      ]
     },
     "execution_count": 11,
     "metadata": {},
     "output_type": "execute_result"
    }
   ],
   "source": [
    "df3 = df2.copy()\n",
    "df3 = df3[df2.Borough.str.contains(\"Toronto\")]\n",
    "df3.head()"
   ]
  },
  {
   "cell_type": "code",
   "execution_count": 13,
   "metadata": {},
   "outputs": [
    {
     "data": {
      "text/html": [
       "<div style=\"width:100%;\"><div style=\"position:relative;width:100%;height:0;padding-bottom:60%;\"><span style=\"color:#565656\">Make this Notebook Trusted to load map: File -> Trust Notebook</span><iframe src=\"about:blank\" style=\"position:absolute;width:100%;height:100%;left:0;top:0;border:none !important;\" data-html=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 onload=\"this.contentDocument.open();this.contentDocument.write(atob(this.getAttribute('data-html')));this.contentDocument.close();\" allowfullscreen webkitallowfullscreen mozallowfullscreen></iframe></div></div>"
      ],
      "text/plain": [
       "<folium.folium.Map at 0x1b52f0bccc0>"
      ]
     },
     "execution_count": 13,
     "metadata": {},
     "output_type": "execute_result"
    }
   ],
   "source": [
    "toronto_map = folium.Map(location=[43.65, -79.4], zoom_start=12)\n",
    "\n",
    "X = df3['Latitude']\n",
    "Y = df3['Longitude']\n",
    "Z = np.stack((X, Y), axis=1)\n",
    "\n",
    "kmeans = KMeans(n_clusters=4, random_state=0).fit(Z)\n",
    "\n",
    "clusters = kmeans.labels_\n",
    "colors = ['red', 'green', 'blue', 'yellow']\n",
    "df3['Cluster'] = clusters\n",
    "\n",
    "for latitude, longitude, borough, cluster in zip(df3['Latitude'], df3['Longitude'], df3['Borough'], df3['Cluster']):\n",
    "    label = folium.Popup(borough, parse_html=True)\n",
    "    folium.CircleMarker(\n",
    "        [latitude, longitude],\n",
    "        radius=5,\n",
    "        popup=label,\n",
    "        color='black',\n",
    "        fill=True,\n",
    "        fill_color=colors[cluster],\n",
    "        fill_opacity=0.7).add_to(toronto_map)  \n",
    "\n",
    "toronto_map"
   ]
  }
 ],
 "metadata": {
  "kernelspec": {
   "display_name": "Python 3",
   "language": "python",
   "name": "python3"
  },
  "language_info": {
   "codemirror_mode": {
    "name": "ipython",
    "version": 3
   },
   "file_extension": ".py",
   "mimetype": "text/x-python",
   "name": "python",
   "nbconvert_exporter": "python",
   "pygments_lexer": "ipython3",
   "version": "3.7.6"
  }
 },
 "nbformat": 4,
 "nbformat_minor": 2
}
